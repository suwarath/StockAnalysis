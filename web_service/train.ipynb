{
 "cells": [
  {
   "cell_type": "code",
   "execution_count": 1,
   "metadata": {},
   "outputs": [],
   "source": [
    "import mlflow\n",
    "import datetime as dt\n",
    "from model1 import *\n",
    "from preprocess import *\n",
    "# from train import *"
   ]
  },
  {
   "cell_type": "code",
   "execution_count": 3,
   "metadata": {},
   "outputs": [],
   "source": [
    "ticker = 'AAPL'\n",
    "start_date = '2023-01-01'\n",
    "end_date = '2024-01-01'\n",
    "download_start = '2022-11-01'"
   ]
  },
  {
   "cell_type": "code",
   "execution_count": null,
   "metadata": {},
   "outputs": [],
   "source": [
    "def save_model(self, file_path):\n",
    "        with open(file_path, 'wb') as file:\n",
    "            pickle.dump(self.q_table, file)"
   ]
  },
  {
   "cell_type": "code",
   "execution_count": 12,
   "metadata": {},
   "outputs": [
    {
     "name": "stderr",
     "output_type": "stream",
     "text": [
      "[*********************100%%**********************]  1 of 1 completed\n",
      "[*********************100%%**********************]  1 of 1 completed\n"
     ]
    },
    {
     "name": "stdout",
     "output_type": "stream",
     "text": [
      "Episode 1/249, Reward: 3679.7418212890625\n",
      "Episode 2/249, Reward: 4400.117378234863\n",
      "Episode 3/249, Reward: 2944.8074645996094\n",
      "Episode 4/249, Reward: 1994.259536743164\n",
      "Episode 5/249, Reward: 1317.198471069336\n",
      "Episode 6/249, Reward: 4059.2222442626953\n",
      "Episode 7/249, Reward: 2969.7888259887695\n",
      "Episode 8/249, Reward: 3614.0705337524414\n",
      "Episode 9/249, Reward: 3354.7288818359375\n",
      "Episode 10/249, Reward: 3049.4403533935547\n",
      "Episode 11/249, Reward: 1936.5672912597656\n",
      "Episode 12/249, Reward: 1408.640739440918\n",
      "Episode 13/249, Reward: 1497.7459869384766\n",
      "Episode 14/249, Reward: 1832.7748413085938\n",
      "Episode 15/249, Reward: 4070.078369140625\n",
      "Episode 16/249, Reward: 2985.564712524414\n",
      "Episode 17/249, Reward: 2927.3547744750977\n",
      "Episode 18/249, Reward: 2886.7154998779297\n",
      "Episode 19/249, Reward: 3276.879280090332\n",
      "Episode 20/249, Reward: 1301.520736694336\n",
      "Episode 21/249, Reward: 158.1470947265625\n",
      "Episode 22/249, Reward: 3845.089340209961\n",
      "Episode 23/249, Reward: 4665.7855224609375\n",
      "Episode 24/249, Reward: 251.84811401367188\n",
      "Episode 25/249, Reward: 773.0042266845703\n",
      "Episode 26/249, Reward: 4424.058090209961\n",
      "Episode 27/249, Reward: 641.2480316162109\n",
      "Episode 28/249, Reward: 2133.984146118164\n",
      "Episode 29/249, Reward: 3930.238525390625\n",
      "Episode 30/249, Reward: 241.2484130859375\n",
      "Episode 31/249, Reward: 1270.5079040527344\n",
      "Episode 32/249, Reward: 5634.45475769043\n",
      "Episode 33/249, Reward: 2532.3768157958984\n",
      "Episode 34/249, Reward: 3039.199203491211\n",
      "Episode 35/249, Reward: 2379.109161376953\n",
      "Episode 36/249, Reward: 2799.487564086914\n",
      "Episode 37/249, Reward: 2972.0780181884766\n",
      "Episode 38/249, Reward: 2476.441909790039\n",
      "Episode 39/249, Reward: 1822.9620361328125\n",
      "Episode 40/249, Reward: 3814.283187866211\n",
      "Episode 41/249, Reward: 2935.9494018554688\n",
      "Episode 42/249, Reward: 3609.80517578125\n",
      "Episode 43/249, Reward: 2242.131881713867\n",
      "Episode 44/249, Reward: 2466.1788177490234\n",
      "Episode 45/249, Reward: 2371.7812576293945\n",
      "Episode 46/249, Reward: 2909.772659301758\n",
      "Episode 47/249, Reward: 2487.719009399414\n",
      "Episode 48/249, Reward: 3533.165481567383\n",
      "Episode 49/249, Reward: 1034.856918334961\n",
      "Episode 50/249, Reward: 1098.8392791748047\n",
      "Episode 51/249, Reward: 1485.0235900878906\n",
      "Episode 52/249, Reward: -37.842193603515625\n",
      "Episode 53/249, Reward: 3551.7320098876953\n",
      "Episode 54/249, Reward: 3272.1001892089844\n",
      "Episode 55/249, Reward: 1912.0274963378906\n",
      "Episode 56/249, Reward: 1761.2355499267578\n",
      "Episode 57/249, Reward: 801.3401184082031\n",
      "Episode 58/249, Reward: 1772.1407775878906\n",
      "Episode 59/249, Reward: 729.2752532958984\n",
      "Episode 60/249, Reward: 645.7368927001953\n",
      "Episode 61/249, Reward: 1334.5595703125\n",
      "Episode 62/249, Reward: 1940.2006378173828\n",
      "Episode 63/249, Reward: 1297.6153106689453\n",
      "Episode 64/249, Reward: 1939.925277709961\n",
      "Episode 65/249, Reward: 2419.755645751953\n",
      "Episode 66/249, Reward: 2830.868827819824\n",
      "Episode 67/249, Reward: 2318.186408996582\n",
      "Episode 68/249, Reward: 2017.906967163086\n",
      "Episode 69/249, Reward: 935.8461837768555\n",
      "Episode 70/249, Reward: 1686.9123077392578\n",
      "Episode 71/249, Reward: 1956.558578491211\n",
      "Episode 72/249, Reward: 2257.7885971069336\n",
      "Episode 73/249, Reward: 4135.787353515625\n",
      "Episode 74/249, Reward: 5791.826477050781\n",
      "Episode 75/249, Reward: 4112.170059204102\n",
      "Episode 76/249, Reward: 3044.891311645508\n",
      "Episode 77/249, Reward: 2300.0460815429688\n",
      "Episode 78/249, Reward: 1519.0948028564453\n",
      "Episode 79/249, Reward: 916.2602996826172\n",
      "Episode 80/249, Reward: 2775.325149536133\n",
      "Episode 81/249, Reward: 3305.6822814941406\n",
      "Episode 82/249, Reward: 3417.559669494629\n",
      "Episode 83/249, Reward: 3900.1990814208984\n",
      "Episode 84/249, Reward: 1824.7064666748047\n",
      "Episode 85/249, Reward: 990.4886779785156\n",
      "Episode 86/249, Reward: 1932.5922088623047\n",
      "Episode 87/249, Reward: 1741.74658203125\n",
      "Episode 88/249, Reward: 1671.635269165039\n",
      "Episode 89/249, Reward: 1110.1913604736328\n",
      "Episode 90/249, Reward: 1386.5261688232422\n",
      "Episode 91/249, Reward: 195.6297607421875\n",
      "Episode 92/249, Reward: 3296.4962997436523\n",
      "Episode 93/249, Reward: 1564.2336730957031\n",
      "Episode 94/249, Reward: 902.8005065917969\n",
      "Episode 95/249, Reward: 1650.188621520996\n",
      "Episode 96/249, Reward: 368.80098724365234\n",
      "Episode 97/249, Reward: 1261.3675231933594\n",
      "Episode 98/249, Reward: 1169.0655517578125\n",
      "Episode 99/249, Reward: -49.61997985839844\n",
      "Episode 100/249, Reward: 461.8863830566406\n",
      "Episode 101/249, Reward: 2633.3634338378906\n",
      "Episode 102/249, Reward: 1198.8286743164062\n",
      "Episode 103/249, Reward: 1659.6506958007812\n",
      "Episode 104/249, Reward: 4337.096496582031\n",
      "Episode 105/249, Reward: 3654.1052856445312\n",
      "Episode 106/249, Reward: 2934.9859771728516\n",
      "Episode 107/249, Reward: 1467.2951965332031\n",
      "Episode 108/249, Reward: 2167.018310546875\n",
      "Episode 109/249, Reward: 2014.8324584960938\n",
      "Episode 110/249, Reward: 2577.908462524414\n",
      "Episode 111/249, Reward: 3822.320999145508\n",
      "Episode 112/249, Reward: 4123.635818481445\n",
      "Episode 113/249, Reward: 1882.6519622802734\n",
      "Episode 114/249, Reward: 2715.6366119384766\n",
      "Episode 115/249, Reward: 3089.1287231445312\n",
      "Episode 116/249, Reward: 1675.135238647461\n",
      "Episode 117/249, Reward: 1004.5156326293945\n",
      "Episode 118/249, Reward: 1912.9274291992188\n",
      "Episode 119/249, Reward: 1658.8077697753906\n",
      "Episode 120/249, Reward: 2659.8580932617188\n",
      "Episode 121/249, Reward: 1935.618408203125\n",
      "Episode 122/249, Reward: 2165.1144409179688\n",
      "Episode 123/249, Reward: 4178.066680908203\n",
      "Episode 124/249, Reward: 3952.509620666504\n",
      "Episode 125/249, Reward: -113.26625061035156\n",
      "Episode 126/249, Reward: 2889.0374145507812\n",
      "Episode 127/249, Reward: 1581.1570434570312\n",
      "Episode 128/249, Reward: 3257.6683654785156\n",
      "Episode 129/249, Reward: 1063.1783599853516\n",
      "Episode 130/249, Reward: 1864.5892181396484\n",
      "Episode 131/249, Reward: 3495.4986724853516\n",
      "Episode 132/249, Reward: 1524.5594482421875\n",
      "Episode 133/249, Reward: 307.86793518066406\n",
      "Episode 134/249, Reward: 3902.23974609375\n",
      "Episode 135/249, Reward: 2901.1664428710938\n",
      "Episode 136/249, Reward: 347.20690155029297\n",
      "Episode 137/249, Reward: 1805.9652709960938\n",
      "Episode 138/249, Reward: 4865.509460449219\n",
      "Episode 139/249, Reward: 2048.279083251953\n",
      "Episode 140/249, Reward: 2834.270462036133\n",
      "Episode 141/249, Reward: 2236.620147705078\n",
      "Episode 142/249, Reward: 1155.6465759277344\n",
      "Episode 143/249, Reward: 1971.628189086914\n",
      "Episode 144/249, Reward: 1867.0783386230469\n",
      "Episode 145/249, Reward: -967.3609466552734\n",
      "Episode 146/249, Reward: 1860.9096221923828\n",
      "Episode 147/249, Reward: 2697.9893341064453\n",
      "Episode 148/249, Reward: 3461.480972290039\n",
      "Episode 149/249, Reward: 2653.7989349365234\n",
      "Episode 150/249, Reward: 3189.1963500976562\n",
      "Episode 151/249, Reward: 2367.741012573242\n",
      "Episode 152/249, Reward: 3125.223648071289\n",
      "Episode 153/249, Reward: 1564.7989959716797\n",
      "Episode 154/249, Reward: 1384.4162902832031\n",
      "Episode 155/249, Reward: 1450.4309997558594\n",
      "Episode 156/249, Reward: 1448.4564666748047\n",
      "Episode 157/249, Reward: 255.0276336669922\n",
      "Episode 158/249, Reward: 2377.337760925293\n",
      "Episode 159/249, Reward: 2156.879409790039\n",
      "Episode 160/249, Reward: 394.33457946777344\n",
      "Episode 161/249, Reward: 2917.837158203125\n",
      "Episode 162/249, Reward: 2502.918670654297\n",
      "Episode 163/249, Reward: 3409.9434356689453\n",
      "Episode 164/249, Reward: 2234.2154693603516\n",
      "Episode 165/249, Reward: 2105.718215942383\n",
      "Episode 166/249, Reward: 2330.1653594970703\n",
      "Episode 167/249, Reward: 1387.9813537597656\n",
      "Episode 168/249, Reward: 3212.7359619140625\n",
      "Episode 169/249, Reward: 1623.577377319336\n",
      "Episode 170/249, Reward: 3517.8201904296875\n",
      "Episode 171/249, Reward: 2980.6875610351562\n",
      "Episode 172/249, Reward: 3844.4280700683594\n",
      "Episode 173/249, Reward: 1442.2849655151367\n",
      "Episode 174/249, Reward: 1313.1938781738281\n",
      "Episode 175/249, Reward: 1140.7679748535156\n",
      "Episode 176/249, Reward: 1891.7871551513672\n",
      "Episode 177/249, Reward: 1272.5765075683594\n",
      "Episode 178/249, Reward: 3625.235809326172\n",
      "Episode 179/249, Reward: 2402.3783416748047\n",
      "Episode 180/249, Reward: 1355.2811737060547\n",
      "Episode 181/249, Reward: 3633.636032104492\n",
      "Episode 182/249, Reward: 2787.3180236816406\n",
      "Episode 183/249, Reward: 1502.6229553222656\n",
      "Episode 184/249, Reward: 4557.230850219727\n",
      "Episode 185/249, Reward: 3183.8197021484375\n",
      "Episode 186/249, Reward: 3098.152359008789\n",
      "Episode 187/249, Reward: 1924.8644104003906\n",
      "Episode 188/249, Reward: 787.0761260986328\n",
      "Episode 189/249, Reward: 1797.3788986206055\n",
      "Episode 190/249, Reward: 2291.094223022461\n",
      "Episode 191/249, Reward: 1303.4239349365234\n",
      "Episode 192/249, Reward: 2840.9501037597656\n",
      "Episode 193/249, Reward: 2520.051254272461\n",
      "Episode 194/249, Reward: 3098.9058227539062\n",
      "Episode 195/249, Reward: 1655.2062072753906\n",
      "Episode 196/249, Reward: 1967.107162475586\n",
      "Episode 197/249, Reward: 3072.405807495117\n",
      "Episode 198/249, Reward: 2925.6621704101562\n",
      "Episode 199/249, Reward: 3312.4598999023438\n",
      "Episode 200/249, Reward: 1095.9788360595703\n",
      "Episode 201/249, Reward: 4196.0982666015625\n",
      "Episode 202/249, Reward: 2022.5748291015625\n",
      "Episode 203/249, Reward: 1685.8883056640625\n",
      "Episode 204/249, Reward: 4302.01513671875\n",
      "Episode 205/249, Reward: 3724.260185241699\n",
      "Episode 206/249, Reward: 3576.96240234375\n",
      "Episode 207/249, Reward: 2043.4478454589844\n",
      "Episode 208/249, Reward: 1956.8878784179688\n",
      "Episode 209/249, Reward: 259.78675842285156\n",
      "Episode 210/249, Reward: 3424.8700561523438\n",
      "Episode 211/249, Reward: 3182.468231201172\n",
      "Episode 212/249, Reward: 2152.737350463867\n",
      "Episode 213/249, Reward: 3407.899368286133\n",
      "Episode 214/249, Reward: 1672.145492553711\n",
      "Episode 215/249, Reward: 2379.655487060547\n",
      "Episode 216/249, Reward: 2534.662384033203\n",
      "Episode 217/249, Reward: 1480.3284149169922\n",
      "Episode 218/249, Reward: 3168.6125717163086\n",
      "Episode 219/249, Reward: 1780.3397827148438\n",
      "Episode 220/249, Reward: 1058.0792694091797\n",
      "Episode 221/249, Reward: 2996.027114868164\n",
      "Episode 222/249, Reward: 2632.3147735595703\n",
      "Episode 223/249, Reward: 4636.680534362793\n",
      "Episode 224/249, Reward: 2553.997528076172\n",
      "Episode 225/249, Reward: 1987.7872161865234\n",
      "Episode 226/249, Reward: 2194.6676177978516\n",
      "Episode 227/249, Reward: 2178.4347534179688\n",
      "Episode 228/249, Reward: 2610.7671508789062\n",
      "Episode 229/249, Reward: 3275.150848388672\n",
      "Episode 230/249, Reward: 2252.549118041992\n",
      "Episode 231/249, Reward: 2944.357711791992\n",
      "Episode 232/249, Reward: 2692.996353149414\n",
      "Episode 233/249, Reward: 1873.5097198486328\n",
      "Episode 234/249, Reward: 1854.4402313232422\n",
      "Episode 235/249, Reward: 1709.3948669433594\n",
      "Episode 236/249, Reward: 2530.0870819091797\n",
      "Episode 237/249, Reward: 3700.3074340820312\n",
      "Episode 238/249, Reward: 2538.8755493164062\n",
      "Episode 239/249, Reward: 1776.6661682128906\n",
      "Episode 240/249, Reward: 2336.0304565429688\n",
      "Episode 241/249, Reward: 2309.8189544677734\n",
      "Episode 242/249, Reward: 2583.0863189697266\n",
      "Episode 243/249, Reward: 602.8816223144531\n",
      "Episode 244/249, Reward: 4217.146308898926\n",
      "Episode 245/249, Reward: 409.563232421875\n",
      "Episode 246/249, Reward: 4076.858642578125\n",
      "Episode 247/249, Reward: 2989.6826934814453\n",
      "Episode 248/249, Reward: 3224.869941711426\n",
      "Episode 249/249, Reward: 1336.469253540039\n",
      "Final Net Worth: 11336.469253540039\n",
      "Cumulative Return: 13.36%\n"
     ]
    }
   ],
   "source": [
    "train(ticker, start_date, end_date, download_start, './artifacts/model.pkl')"
   ]
  },
  {
   "cell_type": "code",
   "execution_count": 42,
   "metadata": {},
   "outputs": [
    {
     "data": {
      "text/plain": [
       "'/Users/suwarath/Documents/MLOps/StockAnalysis/web_service/'"
      ]
     },
     "execution_count": 42,
     "metadata": {},
     "output_type": "execute_result"
    }
   ],
   "source": [
    "from mlflow.tracking import MlflowClient\n",
    "mlflow.set_tracking_uri(\"sqlite:///mlflow.db\")\n",
    "client = MlflowClient()\n",
    "\n",
    "prd_model_run_id = client.get_model_version_by_alias(\"stock-trade-action-best-model\", \"prd\").run_id\n",
    "\n",
    "# artifact_uri = best_performance_model.info.artifact_uri\n",
    "\n",
    "mlflow.artifacts.download_artifacts(run_id= prd_model_run_id, dst_path = \"./web_service/\")"
   ]
  },
  {
   "cell_type": "code",
   "execution_count": 38,
   "metadata": {},
   "outputs": [
    {
     "data": {
      "text/plain": [
       "'/Users/suwarath/Documents/MLOps/StockAnalysis/mlruns/1/e5c6702f369b40f0b187f49c718e9ce1/artifacts'"
      ]
     },
     "execution_count": 38,
     "metadata": {},
     "output_type": "execute_result"
    }
   ],
   "source": [
    "artifact_uri"
   ]
  },
  {
   "cell_type": "code",
   "execution_count": 14,
   "metadata": {},
   "outputs": [],
   "source": [
    "artifact_uri = best_performance_model.info.artifact_uri"
   ]
  },
  {
   "cell_type": "code",
   "execution_count": 33,
   "metadata": {},
   "outputs": [
    {
     "data": {
      "text/plain": [
       "'/Users/suwarath/Documents/MLOps/StockAnalysis/web_service/model.bin/qtable.bin'"
      ]
     },
     "execution_count": 33,
     "metadata": {},
     "output_type": "execute_result"
    }
   ],
   "source": [
    "mlflow.artifacts.download_artifacts(artifact_uri = artifact_uri+\"/model1/qtable.bin\", dst_path = \"./web_service/model/\")"
   ]
  },
  {
   "cell_type": "code",
   "execution_count": 36,
   "metadata": {},
   "outputs": [
    {
     "data": {
      "text/plain": [
       "'./workflow/temp/model.py'"
      ]
     },
     "execution_count": 36,
     "metadata": {},
     "output_type": "execute_result"
    }
   ],
   "source": [
    "import shutil\n",
    "\n",
    "shutil.copy(\"./workflow/model2.py\", \"./workflow/temp/model.py\")"
   ]
  },
  {
   "cell_type": "code",
   "execution_count": null,
   "metadata": {},
   "outputs": [],
   "source": [
    "with (\"./workflow/temp/\")"
   ]
  },
  {
   "cell_type": "code",
   "execution_count": 29,
   "metadata": {},
   "outputs": [
    {
     "ename": "ModuleNotFoundError",
     "evalue": "No module named '/Users/suwarath/Documents/MLOps/StockAnalysis/mlruns/1/e5c6702f369b40f0b187f49c718e9ce1/artifacts/model1'",
     "output_type": "error",
     "traceback": [
      "\u001b[0;31m---------------------------------------------------------------------------\u001b[0m",
      "\u001b[0;31mModuleNotFoundError\u001b[0m                       Traceback (most recent call last)",
      "Cell \u001b[0;32mIn[29], line 2\u001b[0m\n\u001b[1;32m      1\u001b[0m \u001b[38;5;28;01mimport\u001b[39;00m \u001b[38;5;21;01mimportlib\u001b[39;00m\n\u001b[0;32m----> 2\u001b[0m mm \u001b[38;5;241m=\u001b[39m \u001b[43mimportlib\u001b[49m\u001b[38;5;241;43m.\u001b[39;49m\u001b[43mimport_module\u001b[49m\u001b[43m(\u001b[49m\u001b[43mm\u001b[49m\u001b[43m)\u001b[49m\n",
      "File \u001b[0;32m~/opt/anaconda3/lib/python3.8/importlib/__init__.py:127\u001b[0m, in \u001b[0;36mimport_module\u001b[0;34m(name, package)\u001b[0m\n\u001b[1;32m    125\u001b[0m             \u001b[38;5;28;01mbreak\u001b[39;00m\n\u001b[1;32m    126\u001b[0m         level \u001b[38;5;241m+\u001b[39m\u001b[38;5;241m=\u001b[39m \u001b[38;5;241m1\u001b[39m\n\u001b[0;32m--> 127\u001b[0m \u001b[38;5;28;01mreturn\u001b[39;00m \u001b[43m_bootstrap\u001b[49m\u001b[38;5;241;43m.\u001b[39;49m\u001b[43m_gcd_import\u001b[49m\u001b[43m(\u001b[49m\u001b[43mname\u001b[49m\u001b[43m[\u001b[49m\u001b[43mlevel\u001b[49m\u001b[43m:\u001b[49m\u001b[43m]\u001b[49m\u001b[43m,\u001b[49m\u001b[43m \u001b[49m\u001b[43mpackage\u001b[49m\u001b[43m,\u001b[49m\u001b[43m \u001b[49m\u001b[43mlevel\u001b[49m\u001b[43m)\u001b[49m\n",
      "File \u001b[0;32m<frozen importlib._bootstrap>:1014\u001b[0m, in \u001b[0;36m_gcd_import\u001b[0;34m(name, package, level)\u001b[0m\n",
      "File \u001b[0;32m<frozen importlib._bootstrap>:991\u001b[0m, in \u001b[0;36m_find_and_load\u001b[0;34m(name, import_)\u001b[0m\n",
      "File \u001b[0;32m<frozen importlib._bootstrap>:973\u001b[0m, in \u001b[0;36m_find_and_load_unlocked\u001b[0;34m(name, import_)\u001b[0m\n",
      "\u001b[0;31mModuleNotFoundError\u001b[0m: No module named '/Users/suwarath/Documents/MLOps/StockAnalysis/mlruns/1/e5c6702f369b40f0b187f49c718e9ce1/artifacts/model1'"
     ]
    }
   ],
   "source": [
    "import importlib\n",
    "mm = importlib.import_module(m)"
   ]
  },
  {
   "cell_type": "code",
   "execution_count": 20,
   "metadata": {},
   "outputs": [
    {
     "name": "stderr",
     "output_type": "stream",
     "text": [
      "/var/folders/1c/xy5l3bvx653590381s90cwv80000gn/T/ipykernel_32634/1168813201.py:1: FutureWarning: ``mlflow.pyfunc.load_pyfunc`` is deprecated since 1.0. This method will be removed in a future release. Use ``mlflow.pyfunc.load_model`` instead.\n",
      "  m = mlflow.pyfunc.load_pyfunc(artifact_uri+\"/model1.py\")\n"
     ]
    },
    {
     "ename": "MlflowException",
     "evalue": "Could not find an \"MLmodel\" configuration file at \"/Users/suwarath/Documents/MLOps/StockAnalysis/mlruns/1/e5c6702f369b40f0b187f49c718e9ce1/artifacts/model1.py/MLmodel\"",
     "output_type": "error",
     "traceback": [
      "\u001b[0;31m---------------------------------------------------------------------------\u001b[0m",
      "\u001b[0;31mMlflowException\u001b[0m                           Traceback (most recent call last)",
      "Cell \u001b[0;32mIn[20], line 1\u001b[0m\n\u001b[0;32m----> 1\u001b[0m m \u001b[38;5;241m=\u001b[39m \u001b[43mmlflow\u001b[49m\u001b[38;5;241;43m.\u001b[39;49m\u001b[43mpyfunc\u001b[49m\u001b[38;5;241;43m.\u001b[39;49m\u001b[43mload_pyfunc\u001b[49m\u001b[43m(\u001b[49m\u001b[43martifact_uri\u001b[49m\u001b[38;5;241;43m+\u001b[39;49m\u001b[38;5;124;43m\"\u001b[39;49m\u001b[38;5;124;43m/model1.py\u001b[39;49m\u001b[38;5;124;43m\"\u001b[39;49m\u001b[43m)\u001b[49m\n",
      "File \u001b[0;32m~/Documents/MLOps/StockAnalysis/.venv/lib/python3.8/site-packages/mlflow/utils/annotations.py:145\u001b[0m, in \u001b[0;36mdeprecated.<locals>.deprecated_decorator.<locals>.deprecated_func\u001b[0;34m(*args, **kwargs)\u001b[0m\n\u001b[1;32m    142\u001b[0m \u001b[38;5;129m@wraps\u001b[39m(func)\n\u001b[1;32m    143\u001b[0m \u001b[38;5;28;01mdef\u001b[39;00m \u001b[38;5;21mdeprecated_func\u001b[39m(\u001b[38;5;241m*\u001b[39margs, \u001b[38;5;241m*\u001b[39m\u001b[38;5;241m*\u001b[39mkwargs):\n\u001b[1;32m    144\u001b[0m     warnings\u001b[38;5;241m.\u001b[39mwarn(notice, category\u001b[38;5;241m=\u001b[39m\u001b[38;5;167;01mFutureWarning\u001b[39;00m, stacklevel\u001b[38;5;241m=\u001b[39m\u001b[38;5;241m2\u001b[39m)\n\u001b[0;32m--> 145\u001b[0m     \u001b[38;5;28;01mreturn\u001b[39;00m \u001b[43mfunc\u001b[49m\u001b[43m(\u001b[49m\u001b[38;5;241;43m*\u001b[39;49m\u001b[43margs\u001b[49m\u001b[43m,\u001b[49m\u001b[43m \u001b[49m\u001b[38;5;241;43m*\u001b[39;49m\u001b[38;5;241;43m*\u001b[39;49m\u001b[43mkwargs\u001b[49m\u001b[43m)\u001b[49m\n",
      "File \u001b[0;32m~/Documents/MLOps/StockAnalysis/.venv/lib/python3.8/site-packages/mlflow/pyfunc/__init__.py:1270\u001b[0m, in \u001b[0;36mload_pyfunc\u001b[0;34m(model_uri, suppress_warnings)\u001b[0m\n\u001b[1;32m   1246\u001b[0m \u001b[38;5;129m@deprecated\u001b[39m(\u001b[38;5;124m\"\u001b[39m\u001b[38;5;124mmlflow.pyfunc.load_model\u001b[39m\u001b[38;5;124m\"\u001b[39m, \u001b[38;5;241m1.0\u001b[39m)\n\u001b[1;32m   1247\u001b[0m \u001b[38;5;28;01mdef\u001b[39;00m \u001b[38;5;21mload_pyfunc\u001b[39m(model_uri, suppress_warnings\u001b[38;5;241m=\u001b[39m\u001b[38;5;28;01mFalse\u001b[39;00m):\n\u001b[1;32m   1248\u001b[0m \u001b[38;5;250m    \u001b[39m\u001b[38;5;124;03m\"\"\"\u001b[39;00m\n\u001b[1;32m   1249\u001b[0m \u001b[38;5;124;03m    Load a model stored in Python function format.\u001b[39;00m\n\u001b[1;32m   1250\u001b[0m \n\u001b[0;32m   (...)\u001b[0m\n\u001b[1;32m   1268\u001b[0m \u001b[38;5;124;03m            emitted.\u001b[39;00m\n\u001b[1;32m   1269\u001b[0m \u001b[38;5;124;03m    \"\"\"\u001b[39;00m\n\u001b[0;32m-> 1270\u001b[0m     \u001b[38;5;28;01mreturn\u001b[39;00m \u001b[43mload_model\u001b[49m\u001b[43m(\u001b[49m\u001b[43mmodel_uri\u001b[49m\u001b[43m,\u001b[49m\u001b[43m \u001b[49m\u001b[43msuppress_warnings\u001b[49m\u001b[43m)\u001b[49m\n",
      "File \u001b[0;32m~/Documents/MLOps/StockAnalysis/.venv/lib/python3.8/site-packages/mlflow/tracing/provider.py:237\u001b[0m, in \u001b[0;36mtrace_disabled.<locals>.wrapper\u001b[0;34m(*args, **kwargs)\u001b[0m\n\u001b[1;32m    235\u001b[0m disable()\n\u001b[1;32m    236\u001b[0m \u001b[38;5;28;01mtry\u001b[39;00m:\n\u001b[0;32m--> 237\u001b[0m     is_func_called, result \u001b[38;5;241m=\u001b[39m \u001b[38;5;28;01mTrue\u001b[39;00m, \u001b[43mf\u001b[49m\u001b[43m(\u001b[49m\u001b[38;5;241;43m*\u001b[39;49m\u001b[43margs\u001b[49m\u001b[43m,\u001b[49m\u001b[43m \u001b[49m\u001b[38;5;241;43m*\u001b[39;49m\u001b[38;5;241;43m*\u001b[39;49m\u001b[43mkwargs\u001b[49m\u001b[43m)\u001b[49m\n\u001b[1;32m    238\u001b[0m \u001b[38;5;28;01mfinally\u001b[39;00m:\n\u001b[1;32m    239\u001b[0m     enable()\n",
      "File \u001b[0;32m~/Documents/MLOps/StockAnalysis/.venv/lib/python3.8/site-packages/mlflow/pyfunc/__init__.py:993\u001b[0m, in \u001b[0;36mload_model\u001b[0;34m(model_uri, suppress_warnings, dst_path, model_config)\u001b[0m\n\u001b[1;32m    990\u001b[0m     model_requirements \u001b[38;5;241m=\u001b[39m _get_pip_requirements_from_model_path(local_path)\n\u001b[1;32m    991\u001b[0m     warn_dependency_requirement_mismatches(model_requirements)\n\u001b[0;32m--> 993\u001b[0m model_meta \u001b[38;5;241m=\u001b[39m \u001b[43mModel\u001b[49m\u001b[38;5;241;43m.\u001b[39;49m\u001b[43mload\u001b[49m\u001b[43m(\u001b[49m\u001b[43mos\u001b[49m\u001b[38;5;241;43m.\u001b[39;49m\u001b[43mpath\u001b[49m\u001b[38;5;241;43m.\u001b[39;49m\u001b[43mjoin\u001b[49m\u001b[43m(\u001b[49m\u001b[43mlocal_path\u001b[49m\u001b[43m,\u001b[49m\u001b[43m \u001b[49m\u001b[43mMLMODEL_FILE_NAME\u001b[49m\u001b[43m)\u001b[49m\u001b[43m)\u001b[49m\n\u001b[1;32m    995\u001b[0m conf \u001b[38;5;241m=\u001b[39m model_meta\u001b[38;5;241m.\u001b[39mflavors\u001b[38;5;241m.\u001b[39mget(FLAVOR_NAME)\n\u001b[1;32m    996\u001b[0m \u001b[38;5;28;01mif\u001b[39;00m conf \u001b[38;5;129;01mis\u001b[39;00m \u001b[38;5;28;01mNone\u001b[39;00m:\n",
      "File \u001b[0;32m~/Documents/MLOps/StockAnalysis/.venv/lib/python3.8/site-packages/mlflow/models/model.py:605\u001b[0m, in \u001b[0;36mModel.load\u001b[0;34m(cls, path)\u001b[0m\n\u001b[1;32m    603\u001b[0m path_scheme \u001b[38;5;241m=\u001b[39m urlparse(\u001b[38;5;28mstr\u001b[39m(path))\u001b[38;5;241m.\u001b[39mscheme\n\u001b[1;32m    604\u001b[0m \u001b[38;5;28;01mif\u001b[39;00m (\u001b[38;5;129;01mnot\u001b[39;00m path_scheme \u001b[38;5;129;01mor\u001b[39;00m path_scheme \u001b[38;5;241m==\u001b[39m \u001b[38;5;124m\"\u001b[39m\u001b[38;5;124mfile\u001b[39m\u001b[38;5;124m\"\u001b[39m) \u001b[38;5;129;01mand\u001b[39;00m \u001b[38;5;129;01mnot\u001b[39;00m os\u001b[38;5;241m.\u001b[39mpath\u001b[38;5;241m.\u001b[39mexists(path):\n\u001b[0;32m--> 605\u001b[0m     \u001b[38;5;28;01mraise\u001b[39;00m MlflowException(\n\u001b[1;32m    606\u001b[0m         \u001b[38;5;124mf\u001b[39m\u001b[38;5;124m'\u001b[39m\u001b[38;5;124mCould not find an \u001b[39m\u001b[38;5;124m\"\u001b[39m\u001b[38;5;132;01m{\u001b[39;00mMLMODEL_FILE_NAME\u001b[38;5;132;01m}\u001b[39;00m\u001b[38;5;124m\"\u001b[39m\u001b[38;5;124m configuration file at \u001b[39m\u001b[38;5;124m\"\u001b[39m\u001b[38;5;132;01m{\u001b[39;00mpath\u001b[38;5;132;01m}\u001b[39;00m\u001b[38;5;124m\"\u001b[39m\u001b[38;5;124m'\u001b[39m,\n\u001b[1;32m    607\u001b[0m         RESOURCE_DOES_NOT_EXIST,\n\u001b[1;32m    608\u001b[0m     )\n\u001b[1;32m    610\u001b[0m path \u001b[38;5;241m=\u001b[39m download_artifacts(artifact_uri\u001b[38;5;241m=\u001b[39mpath)\n\u001b[1;32m    611\u001b[0m \u001b[38;5;28;01mif\u001b[39;00m os\u001b[38;5;241m.\u001b[39mpath\u001b[38;5;241m.\u001b[39misdir(path):\n",
      "\u001b[0;31mMlflowException\u001b[0m: Could not find an \"MLmodel\" configuration file at \"/Users/suwarath/Documents/MLOps/StockAnalysis/mlruns/1/e5c6702f369b40f0b187f49c718e9ce1/artifacts/model1.py/MLmodel\""
     ]
    }
   ],
   "source": [
    "m = mlflow.pyfunc.load_pyfunc(artifact_uri+\"/model1.py\")"
   ]
  },
  {
   "cell_type": "code",
   "execution_count": 7,
   "metadata": {},
   "outputs": [],
   "source": [
    "import numpy as np\n",
    "import pandas as pd\n",
    "import yfinance as yf\n",
    "from ta.trend import MACD\n",
    "import datetime as dt\n",
    "from web_service.preprocess import *\n",
    "import pickle\n",
    "# m = importlib.import_module(model)\n",
    "\n",
    "def load_and_get_action(ticker, target_date):\n",
    "    date = dt.datetime.strptime(target_date, \"%Y-%m-%d\")\n",
    "    start_date = (date - dt.timedelta(days=60)).strftime('%Y-%m-%d')\n",
    "    end_date = (date + dt.timedelta(days=1)).strftime('%Y-%m-%d')\n",
    "    data = yf.download(ticker, start=start_date, end=end_date).reset_index()\n",
    "    data['macd'] = MACD(data['Close']).macd()\n",
    "    data['obv'] = calculate_obv(data)\n",
    "    target_date_data = data[data['Date'] == target_date]\n",
    "\n",
    "    if len(target_date_data) == 0:\n",
    "        msg = \"Market is close\"\n",
    "        return msg, msg, msg\n",
    "\n",
    "    state = np.array([\n",
    "        target_date_data['Close'],\n",
    "        target_date_data['Volume'],\n",
    "        target_date_data['macd'],\n",
    "        target_date_data['obv']\n",
    "    ])\n",
    "    env_start = (date - dt.timedelta(days = 425)).strftime('%Y-%m-%d')\n",
    "    env_end = date.strftime('%Y-%m-%d')\n",
    "    env_real_start = (date - dt.timedelta(days = 365)).strftime('%Y-%m-%d')\n",
    "\n",
    "    env = StockTradingEnv(ticker, env_start, env_end, env_real_start)\n",
    "    agent = QLearningAgent(env)\n",
    "    \n",
    "    with open('./models/model1/q_table.bin', 'rb') as file:\n",
    "        agent.q_table = pickle.load(file)\n",
    "\n",
    "    action = agent.choose_action(state)\n",
    "    action_mapping = {0: 'Sell', 1: 'Hold', 2: 'Buy'}\n",
    "    \n",
    "    return action_mapping[action], state, target_date_data"
   ]
  },
  {
   "cell_type": "code",
   "execution_count": 8,
   "metadata": {},
   "outputs": [
    {
     "name": "stderr",
     "output_type": "stream",
     "text": [
      "[*********************100%%**********************]  1 of 1 completed\n"
     ]
    },
    {
     "ename": "ModuleNotFoundError",
     "evalue": "No module named 'model1'",
     "output_type": "error",
     "traceback": [
      "\u001b[0;31m---------------------------------------------------------------------------\u001b[0m",
      "\u001b[0;31mModuleNotFoundError\u001b[0m                       Traceback (most recent call last)",
      "Cell \u001b[0;32mIn[8], line 1\u001b[0m\n\u001b[0;32m----> 1\u001b[0m result \u001b[38;5;241m=\u001b[39m \u001b[43mload_and_get_action\u001b[49m\u001b[43m(\u001b[49m\u001b[38;5;124;43m'\u001b[39;49m\u001b[38;5;124;43mAAPL\u001b[39;49m\u001b[38;5;124;43m'\u001b[39;49m\u001b[43m,\u001b[49m\u001b[43m \u001b[49m\u001b[38;5;124;43m'\u001b[39;49m\u001b[38;5;124;43m2024-06-25\u001b[39;49m\u001b[38;5;124;43m'\u001b[39;49m\u001b[43m)\u001b[49m\n\u001b[1;32m      2\u001b[0m \u001b[38;5;28mprint\u001b[39m(\u001b[38;5;124mf\u001b[39m\u001b[38;5;124m\"\u001b[39m\u001b[38;5;124mToday\u001b[39m\u001b[38;5;124m'\u001b[39m\u001b[38;5;124ms action: \u001b[39m\u001b[38;5;132;01m{\u001b[39;00mresult[\u001b[38;5;241m0\u001b[39m]\u001b[38;5;132;01m}\u001b[39;00m\u001b[38;5;124m\"\u001b[39m)\n",
      "Cell \u001b[0;32mIn[7], line 32\u001b[0m, in \u001b[0;36mload_and_get_action\u001b[0;34m(ticker, target_date)\u001b[0m\n\u001b[1;32m     30\u001b[0m env_real_start \u001b[38;5;241m=\u001b[39m (date \u001b[38;5;241m-\u001b[39m dt\u001b[38;5;241m.\u001b[39mtimedelta(days \u001b[38;5;241m=\u001b[39m \u001b[38;5;241m365\u001b[39m))\u001b[38;5;241m.\u001b[39mstrftime(\u001b[38;5;124m'\u001b[39m\u001b[38;5;124m%\u001b[39m\u001b[38;5;124mY-\u001b[39m\u001b[38;5;124m%\u001b[39m\u001b[38;5;124mm-\u001b[39m\u001b[38;5;132;01m%d\u001b[39;00m\u001b[38;5;124m'\u001b[39m)\n\u001b[1;32m     31\u001b[0m \u001b[38;5;28;01mwith\u001b[39;00m \u001b[38;5;28mopen\u001b[39m(\u001b[38;5;124m'\u001b[39m\u001b[38;5;124m./models/model1/env.bin\u001b[39m\u001b[38;5;124m'\u001b[39m, \u001b[38;5;124m'\u001b[39m\u001b[38;5;124mrb\u001b[39m\u001b[38;5;124m'\u001b[39m) \u001b[38;5;28;01mas\u001b[39;00m file:\n\u001b[0;32m---> 32\u001b[0m     StockTradingEnv \u001b[38;5;241m=\u001b[39m \u001b[43mpickle\u001b[49m\u001b[38;5;241;43m.\u001b[39;49m\u001b[43mload\u001b[49m\u001b[43m(\u001b[49m\u001b[43mfile\u001b[49m\u001b[43m)\u001b[49m\n\u001b[1;32m     33\u001b[0m env \u001b[38;5;241m=\u001b[39m StockTradingEnv(ticker, env_start, env_end, env_real_start)\n\u001b[1;32m     35\u001b[0m \u001b[38;5;28;01mwith\u001b[39;00m \u001b[38;5;28mopen\u001b[39m(\u001b[38;5;124m'\u001b[39m\u001b[38;5;124m./models/model1/QLearningAgent.bin\u001b[39m\u001b[38;5;124m'\u001b[39m, \u001b[38;5;124m'\u001b[39m\u001b[38;5;124mrb\u001b[39m\u001b[38;5;124m'\u001b[39m) \u001b[38;5;28;01mas\u001b[39;00m file:\n",
      "\u001b[0;31mModuleNotFoundError\u001b[0m: No module named 'model1'"
     ]
    }
   ],
   "source": [
    "result = load_and_get_action('AAPL', '2024-06-25')\n",
    "print(f\"Today's action: {result[0]}\")"
   ]
  },
  {
   "cell_type": "code",
   "execution_count": 9,
   "metadata": {},
   "outputs": [
    {
     "ename": "ModuleNotFoundError",
     "evalue": "No module named 'model1'",
     "output_type": "error",
     "traceback": [
      "\u001b[0;31m---------------------------------------------------------------------------\u001b[0m",
      "\u001b[0;31mModuleNotFoundError\u001b[0m                       Traceback (most recent call last)",
      "Cell \u001b[0;32mIn[9], line 2\u001b[0m\n\u001b[1;32m      1\u001b[0m \u001b[38;5;28;01mwith\u001b[39;00m \u001b[38;5;28mopen\u001b[39m(\u001b[38;5;124m'\u001b[39m\u001b[38;5;124m./models/model1/env.bin\u001b[39m\u001b[38;5;124m'\u001b[39m, \u001b[38;5;124m'\u001b[39m\u001b[38;5;124mrb\u001b[39m\u001b[38;5;124m'\u001b[39m) \u001b[38;5;28;01mas\u001b[39;00m file:\n\u001b[0;32m----> 2\u001b[0m         StockTradingEnv \u001b[38;5;241m=\u001b[39m \u001b[43mpickle\u001b[49m\u001b[38;5;241;43m.\u001b[39;49m\u001b[43mload\u001b[49m\u001b[43m(\u001b[49m\u001b[43mfile\u001b[49m\u001b[43m)\u001b[49m\n",
      "\u001b[0;31mModuleNotFoundError\u001b[0m: No module named 'model1'"
     ]
    }
   ],
   "source": [
    "with open('./models/model1/env.bin', 'rb') as file:\n",
    "        StockTradingEnv = pickle.load(file)"
   ]
  },
  {
   "cell_type": "code",
   "execution_count": 18,
   "metadata": {},
   "outputs": [
    {
     "name": "stderr",
     "output_type": "stream",
     "text": [
      "[*********************100%%**********************]  1 of 1 completed\n",
      "[*********************100%%**********************]  1 of 1 completed"
     ]
    },
    {
     "name": "stdout",
     "output_type": "stream",
     "text": [
      "{'target_date': '2024-01-05', 'action': 1, 'state': array([ 1.81179993e+02,  6.23033000e+07, -1.52743540e+00, -5.24859000e+07]), 'parm_dict': {'Close': 181.17999267578125, 'Volume': 62303300, 'macd': -1.5274354035035174, 'obv': -52485900}}\n"
     ]
    },
    {
     "name": "stderr",
     "output_type": "stream",
     "text": [
      "\n"
     ]
    },
    {
     "ename": "RuntimeError",
     "evalue": "Working outside of application context.\n\nThis typically means that you attempted to use functionality that needed\nthe current application. To solve this, set up an application context\nwith app.app_context(). See the documentation for more information.",
     "output_type": "error",
     "traceback": [
      "\u001b[0;31m---------------------------------------------------------------------------\u001b[0m",
      "\u001b[0;31mRuntimeError\u001b[0m                              Traceback (most recent call last)",
      "Cell \u001b[0;32mIn[18], line 43\u001b[0m\n\u001b[1;32m     35\u001b[0m result \u001b[38;5;241m=\u001b[39m {\n\u001b[1;32m     36\u001b[0m         \u001b[38;5;124m'\u001b[39m\u001b[38;5;124mtarget_date\u001b[39m\u001b[38;5;124m'\u001b[39m: target_date,\n\u001b[1;32m     37\u001b[0m         \u001b[38;5;124m'\u001b[39m\u001b[38;5;124maction\u001b[39m\u001b[38;5;124m'\u001b[39m: action,\n\u001b[1;32m     38\u001b[0m         \u001b[38;5;124m'\u001b[39m\u001b[38;5;124mstate\u001b[39m\u001b[38;5;124m'\u001b[39m: state,\n\u001b[1;32m     39\u001b[0m         \u001b[38;5;124m'\u001b[39m\u001b[38;5;124mparm_dict\u001b[39m\u001b[38;5;124m'\u001b[39m: parm_dict\n\u001b[1;32m     40\u001b[0m     }\n\u001b[1;32m     42\u001b[0m \u001b[38;5;28mprint\u001b[39m(result)\n\u001b[0;32m---> 43\u001b[0m \u001b[38;5;28mprint\u001b[39m(\u001b[43mjsonify\u001b[49m\u001b[43m(\u001b[49m\u001b[43mresult\u001b[49m\u001b[43m)\u001b[49m)\n",
      "File \u001b[0;32m~/Documents/MLOps/StockAnalysis/.venv/lib/python3.8/site-packages/flask/json/__init__.py:170\u001b[0m, in \u001b[0;36mjsonify\u001b[0;34m(*args, **kwargs)\u001b[0m\n\u001b[1;32m    138\u001b[0m \u001b[38;5;28;01mdef\u001b[39;00m \u001b[38;5;21mjsonify\u001b[39m(\u001b[38;5;241m*\u001b[39margs: t\u001b[38;5;241m.\u001b[39mAny, \u001b[38;5;241m*\u001b[39m\u001b[38;5;241m*\u001b[39mkwargs: t\u001b[38;5;241m.\u001b[39mAny) \u001b[38;5;241m-\u001b[39m\u001b[38;5;241m>\u001b[39m Response:\n\u001b[1;32m    139\u001b[0m \u001b[38;5;250m    \u001b[39m\u001b[38;5;124;03m\"\"\"Serialize the given arguments as JSON, and return a\u001b[39;00m\n\u001b[1;32m    140\u001b[0m \u001b[38;5;124;03m    :class:`~flask.Response` object with the ``application/json``\u001b[39;00m\n\u001b[1;32m    141\u001b[0m \u001b[38;5;124;03m    mimetype. A dict or list returned from a view will be converted to a\u001b[39;00m\n\u001b[0;32m   (...)\u001b[0m\n\u001b[1;32m    168\u001b[0m \u001b[38;5;124;03m    .. versionadded:: 0.2\u001b[39;00m\n\u001b[1;32m    169\u001b[0m \u001b[38;5;124;03m    \"\"\"\u001b[39;00m\n\u001b[0;32m--> 170\u001b[0m     \u001b[38;5;28;01mreturn\u001b[39;00m \u001b[43mcurrent_app\u001b[49m\u001b[38;5;241;43m.\u001b[39;49m\u001b[43mjson\u001b[49m\u001b[38;5;241m.\u001b[39mresponse(\u001b[38;5;241m*\u001b[39margs, \u001b[38;5;241m*\u001b[39m\u001b[38;5;241m*\u001b[39mkwargs)\n",
      "File \u001b[0;32m~/Documents/MLOps/StockAnalysis/.venv/lib/python3.8/site-packages/werkzeug/local.py:318\u001b[0m, in \u001b[0;36m_ProxyLookup.__get__\u001b[0;34m(self, instance, owner)\u001b[0m\n\u001b[1;32m    315\u001b[0m     \u001b[38;5;28;01mreturn\u001b[39;00m \u001b[38;5;28mself\u001b[39m\n\u001b[1;32m    317\u001b[0m \u001b[38;5;28;01mtry\u001b[39;00m:\n\u001b[0;32m--> 318\u001b[0m     obj \u001b[38;5;241m=\u001b[39m \u001b[43minstance\u001b[49m\u001b[38;5;241;43m.\u001b[39;49m\u001b[43m_get_current_object\u001b[49m\u001b[43m(\u001b[49m\u001b[43m)\u001b[49m\n\u001b[1;32m    319\u001b[0m \u001b[38;5;28;01mexcept\u001b[39;00m \u001b[38;5;167;01mRuntimeError\u001b[39;00m:\n\u001b[1;32m    320\u001b[0m     \u001b[38;5;28;01mif\u001b[39;00m \u001b[38;5;28mself\u001b[39m\u001b[38;5;241m.\u001b[39mfallback \u001b[38;5;129;01mis\u001b[39;00m \u001b[38;5;28;01mNone\u001b[39;00m:\n",
      "File \u001b[0;32m~/Documents/MLOps/StockAnalysis/.venv/lib/python3.8/site-packages/werkzeug/local.py:519\u001b[0m, in \u001b[0;36mLocalProxy.__init__.<locals>._get_current_object\u001b[0;34m()\u001b[0m\n\u001b[1;32m    517\u001b[0m     obj \u001b[38;5;241m=\u001b[39m local\u001b[38;5;241m.\u001b[39mget()\n\u001b[1;32m    518\u001b[0m \u001b[38;5;28;01mexcept\u001b[39;00m \u001b[38;5;167;01mLookupError\u001b[39;00m:\n\u001b[0;32m--> 519\u001b[0m     \u001b[38;5;28;01mraise\u001b[39;00m \u001b[38;5;167;01mRuntimeError\u001b[39;00m(unbound_message) \u001b[38;5;28;01mfrom\u001b[39;00m \u001b[38;5;28;01mNone\u001b[39;00m\n\u001b[1;32m    521\u001b[0m \u001b[38;5;28;01mreturn\u001b[39;00m get_name(obj)\n",
      "\u001b[0;31mRuntimeError\u001b[0m: Working outside of application context.\n\nThis typically means that you attempted to use functionality that needed\nthe current application. To solve this, set up an application context\nwith app.app_context(). See the documentation for more information."
     ]
    }
   ],
   "source": [
    "from model_element.preprocess import *\n",
    "from model_element.model import *\n",
    "from flask import jsonify\n",
    "\n",
    "ticker = 'AAPL'\n",
    "target_date = '2024-01-05'\n",
    "date = dt.datetime.strptime(target_date, \"%Y-%m-%d\")\n",
    "start_date = (date - dt.timedelta(days=60)).strftime('%Y-%m-%d')\n",
    "end_date = (date + dt.timedelta(days=1)).strftime('%Y-%m-%d')\n",
    "data = yf.download(ticker, start=start_date, end=end_date).reset_index()\n",
    "data['macd'] = MACD(data['Close']).macd()\n",
    "data['obv'] = calculate_obv(data)\n",
    "target_date_data = data[data['Date'] == target_date].reset_index(drop = True)\n",
    "\n",
    "# if len(target_date_data) == 0:\n",
    "#     msg = \"Market is close\"\n",
    "    # return msg, msg, msg, msg\n",
    "\n",
    "state = np.array([target_date_data.loc[0,i] for i in parameters])\n",
    "env_end = date.strftime('%Y-%m-%d')\n",
    "env_start = (date - dt.timedelta(days = 365)).strftime('%Y-%m-%d')\n",
    "env = StockTradingEnv(ticker, env_start, env_end)\n",
    "agent = QLearningAgent(env)\n",
    "\n",
    "with open('./model_element/qtable.bin', 'rb') as file:\n",
    "    agent.q_table = pickle.load(file)\n",
    "    \n",
    "action = agent.choose_action(state)\n",
    "action_mapping = {0: 'Sell', 1: 'Hold', 2: 'Buy'}\n",
    "\n",
    "parm_dict = {}\n",
    "for i in parameters:\n",
    "    parm_dict[i] = target_date_data.loc[0,i]\n",
    "    \n",
    "result = {\n",
    "        'target_date': target_date,\n",
    "        'action': action,\n",
    "        'state': state,\n",
    "        'parm_dict': parm_dict\n",
    "    }\n",
    "\n",
    "print(result)\n",
    "print(jsonify(result))"
   ]
  },
  {
   "cell_type": "code",
   "execution_count": 19,
   "metadata": {},
   "outputs": [
    {
     "data": {
      "text/plain": [
       "{'Close': 181.17999267578125,\n",
       " 'Volume': 62303300,\n",
       " 'macd': -1.5274354035035174,\n",
       " 'obv': -52485900}"
      ]
     },
     "execution_count": 19,
     "metadata": {},
     "output_type": "execute_result"
    }
   ],
   "source": [
    "parm_dict"
   ]
  },
  {
   "cell_type": "code",
   "execution_count": 17,
   "metadata": {},
   "outputs": [
    {
     "data": {
      "text/plain": [
       "181.17999267578125"
      ]
     },
     "execution_count": 17,
     "metadata": {},
     "output_type": "execute_result"
    }
   ],
   "source": [
    "target_date_data.loc[0,'Close']"
   ]
  },
  {
   "cell_type": "code",
   "execution_count": 11,
   "metadata": {},
   "outputs": [
    {
     "ename": "KeyError",
     "evalue": "'Close'",
     "output_type": "error",
     "traceback": [
      "\u001b[0;31m---------------------------------------------------------------------------\u001b[0m",
      "\u001b[0;31mKeyError\u001b[0m                                  Traceback (most recent call last)",
      "File \u001b[0;32m~/Documents/MLOps/StockAnalysis/.venv/lib/python3.8/site-packages/pandas/core/indexes/base.py:3653\u001b[0m, in \u001b[0;36mIndex.get_loc\u001b[0;34m(self, key)\u001b[0m\n\u001b[1;32m   3652\u001b[0m \u001b[38;5;28;01mtry\u001b[39;00m:\n\u001b[0;32m-> 3653\u001b[0m     \u001b[38;5;28;01mreturn\u001b[39;00m \u001b[38;5;28;43mself\u001b[39;49m\u001b[38;5;241;43m.\u001b[39;49m\u001b[43m_engine\u001b[49m\u001b[38;5;241;43m.\u001b[39;49m\u001b[43mget_loc\u001b[49m\u001b[43m(\u001b[49m\u001b[43mcasted_key\u001b[49m\u001b[43m)\u001b[49m\n\u001b[1;32m   3654\u001b[0m \u001b[38;5;28;01mexcept\u001b[39;00m \u001b[38;5;167;01mKeyError\u001b[39;00m \u001b[38;5;28;01mas\u001b[39;00m err:\n",
      "File \u001b[0;32m~/Documents/MLOps/StockAnalysis/.venv/lib/python3.8/site-packages/pandas/_libs/index.pyx:147\u001b[0m, in \u001b[0;36mpandas._libs.index.IndexEngine.get_loc\u001b[0;34m()\u001b[0m\n",
      "File \u001b[0;32m~/Documents/MLOps/StockAnalysis/.venv/lib/python3.8/site-packages/pandas/_libs/index.pyx:155\u001b[0m, in \u001b[0;36mpandas._libs.index.IndexEngine.get_loc\u001b[0;34m()\u001b[0m\n",
      "File \u001b[0;32mpandas/_libs/index_class_helper.pxi:70\u001b[0m, in \u001b[0;36mpandas._libs.index.Int64Engine._check_type\u001b[0;34m()\u001b[0m\n",
      "\u001b[0;31mKeyError\u001b[0m: 'Close'",
      "\nThe above exception was the direct cause of the following exception:\n",
      "\u001b[0;31mKeyError\u001b[0m                                  Traceback (most recent call last)",
      "Cell \u001b[0;32mIn[11], line 1\u001b[0m\n\u001b[0;32m----> 1\u001b[0m [target_date_data\u001b[38;5;241m.\u001b[39mloc[i] \u001b[38;5;28;01mfor\u001b[39;00m i \u001b[38;5;129;01min\u001b[39;00m parameters]\n",
      "Cell \u001b[0;32mIn[11], line 1\u001b[0m, in \u001b[0;36m<listcomp>\u001b[0;34m(.0)\u001b[0m\n\u001b[0;32m----> 1\u001b[0m [\u001b[43mtarget_date_data\u001b[49m\u001b[38;5;241;43m.\u001b[39;49m\u001b[43mloc\u001b[49m\u001b[43m[\u001b[49m\u001b[43mi\u001b[49m\u001b[43m]\u001b[49m \u001b[38;5;28;01mfor\u001b[39;00m i \u001b[38;5;129;01min\u001b[39;00m parameters]\n",
      "File \u001b[0;32m~/Documents/MLOps/StockAnalysis/.venv/lib/python3.8/site-packages/pandas/core/indexing.py:1103\u001b[0m, in \u001b[0;36m_LocationIndexer.__getitem__\u001b[0;34m(self, key)\u001b[0m\n\u001b[1;32m   1100\u001b[0m axis \u001b[38;5;241m=\u001b[39m \u001b[38;5;28mself\u001b[39m\u001b[38;5;241m.\u001b[39maxis \u001b[38;5;129;01mor\u001b[39;00m \u001b[38;5;241m0\u001b[39m\n\u001b[1;32m   1102\u001b[0m maybe_callable \u001b[38;5;241m=\u001b[39m com\u001b[38;5;241m.\u001b[39mapply_if_callable(key, \u001b[38;5;28mself\u001b[39m\u001b[38;5;241m.\u001b[39mobj)\n\u001b[0;32m-> 1103\u001b[0m \u001b[38;5;28;01mreturn\u001b[39;00m \u001b[38;5;28;43mself\u001b[39;49m\u001b[38;5;241;43m.\u001b[39;49m\u001b[43m_getitem_axis\u001b[49m\u001b[43m(\u001b[49m\u001b[43mmaybe_callable\u001b[49m\u001b[43m,\u001b[49m\u001b[43m \u001b[49m\u001b[43maxis\u001b[49m\u001b[38;5;241;43m=\u001b[39;49m\u001b[43maxis\u001b[49m\u001b[43m)\u001b[49m\n",
      "File \u001b[0;32m~/Documents/MLOps/StockAnalysis/.venv/lib/python3.8/site-packages/pandas/core/indexing.py:1343\u001b[0m, in \u001b[0;36m_LocIndexer._getitem_axis\u001b[0;34m(self, key, axis)\u001b[0m\n\u001b[1;32m   1341\u001b[0m \u001b[38;5;66;03m# fall thru to straight lookup\u001b[39;00m\n\u001b[1;32m   1342\u001b[0m \u001b[38;5;28mself\u001b[39m\u001b[38;5;241m.\u001b[39m_validate_key(key, axis)\n\u001b[0;32m-> 1343\u001b[0m \u001b[38;5;28;01mreturn\u001b[39;00m \u001b[38;5;28;43mself\u001b[39;49m\u001b[38;5;241;43m.\u001b[39;49m\u001b[43m_get_label\u001b[49m\u001b[43m(\u001b[49m\u001b[43mkey\u001b[49m\u001b[43m,\u001b[49m\u001b[43m \u001b[49m\u001b[43maxis\u001b[49m\u001b[38;5;241;43m=\u001b[39;49m\u001b[43maxis\u001b[49m\u001b[43m)\u001b[49m\n",
      "File \u001b[0;32m~/Documents/MLOps/StockAnalysis/.venv/lib/python3.8/site-packages/pandas/core/indexing.py:1293\u001b[0m, in \u001b[0;36m_LocIndexer._get_label\u001b[0;34m(self, label, axis)\u001b[0m\n\u001b[1;32m   1291\u001b[0m \u001b[38;5;28;01mdef\u001b[39;00m \u001b[38;5;21m_get_label\u001b[39m(\u001b[38;5;28mself\u001b[39m, label, axis: AxisInt):\n\u001b[1;32m   1292\u001b[0m     \u001b[38;5;66;03m# GH#5567 this will fail if the label is not present in the axis.\u001b[39;00m\n\u001b[0;32m-> 1293\u001b[0m     \u001b[38;5;28;01mreturn\u001b[39;00m \u001b[38;5;28;43mself\u001b[39;49m\u001b[38;5;241;43m.\u001b[39;49m\u001b[43mobj\u001b[49m\u001b[38;5;241;43m.\u001b[39;49m\u001b[43mxs\u001b[49m\u001b[43m(\u001b[49m\u001b[43mlabel\u001b[49m\u001b[43m,\u001b[49m\u001b[43m \u001b[49m\u001b[43maxis\u001b[49m\u001b[38;5;241;43m=\u001b[39;49m\u001b[43maxis\u001b[49m\u001b[43m)\u001b[49m\n",
      "File \u001b[0;32m~/Documents/MLOps/StockAnalysis/.venv/lib/python3.8/site-packages/pandas/core/generic.py:4095\u001b[0m, in \u001b[0;36mNDFrame.xs\u001b[0;34m(self, key, axis, level, drop_level)\u001b[0m\n\u001b[1;32m   4093\u001b[0m             new_index \u001b[38;5;241m=\u001b[39m index[loc]\n\u001b[1;32m   4094\u001b[0m \u001b[38;5;28;01melse\u001b[39;00m:\n\u001b[0;32m-> 4095\u001b[0m     loc \u001b[38;5;241m=\u001b[39m \u001b[43mindex\u001b[49m\u001b[38;5;241;43m.\u001b[39;49m\u001b[43mget_loc\u001b[49m\u001b[43m(\u001b[49m\u001b[43mkey\u001b[49m\u001b[43m)\u001b[49m\n\u001b[1;32m   4097\u001b[0m     \u001b[38;5;28;01mif\u001b[39;00m \u001b[38;5;28misinstance\u001b[39m(loc, np\u001b[38;5;241m.\u001b[39mndarray):\n\u001b[1;32m   4098\u001b[0m         \u001b[38;5;28;01mif\u001b[39;00m loc\u001b[38;5;241m.\u001b[39mdtype \u001b[38;5;241m==\u001b[39m np\u001b[38;5;241m.\u001b[39mbool_:\n",
      "File \u001b[0;32m~/Documents/MLOps/StockAnalysis/.venv/lib/python3.8/site-packages/pandas/core/indexes/base.py:3655\u001b[0m, in \u001b[0;36mIndex.get_loc\u001b[0;34m(self, key)\u001b[0m\n\u001b[1;32m   3653\u001b[0m     \u001b[38;5;28;01mreturn\u001b[39;00m \u001b[38;5;28mself\u001b[39m\u001b[38;5;241m.\u001b[39m_engine\u001b[38;5;241m.\u001b[39mget_loc(casted_key)\n\u001b[1;32m   3654\u001b[0m \u001b[38;5;28;01mexcept\u001b[39;00m \u001b[38;5;167;01mKeyError\u001b[39;00m \u001b[38;5;28;01mas\u001b[39;00m err:\n\u001b[0;32m-> 3655\u001b[0m     \u001b[38;5;28;01mraise\u001b[39;00m \u001b[38;5;167;01mKeyError\u001b[39;00m(key) \u001b[38;5;28;01mfrom\u001b[39;00m \u001b[38;5;21;01merr\u001b[39;00m\n\u001b[1;32m   3656\u001b[0m \u001b[38;5;28;01mexcept\u001b[39;00m \u001b[38;5;167;01mTypeError\u001b[39;00m:\n\u001b[1;32m   3657\u001b[0m     \u001b[38;5;66;03m# If we have a listlike key, _check_indexing_error will raise\u001b[39;00m\n\u001b[1;32m   3658\u001b[0m     \u001b[38;5;66;03m#  InvalidIndexError. Otherwise we fall through and re-raise\u001b[39;00m\n\u001b[1;32m   3659\u001b[0m     \u001b[38;5;66;03m#  the TypeError.\u001b[39;00m\n\u001b[1;32m   3660\u001b[0m     \u001b[38;5;28mself\u001b[39m\u001b[38;5;241m.\u001b[39m_check_indexing_error(key)\n",
      "\u001b[0;31mKeyError\u001b[0m: 'Close'"
     ]
    }
   ],
   "source": [
    "[target_date_data.loc[i] for i in parameters]"
   ]
  },
  {
   "cell_type": "code",
   "execution_count": null,
   "metadata": {},
   "outputs": [],
   "source": []
  }
 ],
 "metadata": {
  "kernelspec": {
   "display_name": ".venv",
   "language": "python",
   "name": "python3"
  },
  "language_info": {
   "codemirror_mode": {
    "name": "ipython",
    "version": 3
   },
   "file_extension": ".py",
   "mimetype": "text/x-python",
   "name": "python",
   "nbconvert_exporter": "python",
   "pygments_lexer": "ipython3",
   "version": "3.8.8"
  }
 },
 "nbformat": 4,
 "nbformat_minor": 2
}
